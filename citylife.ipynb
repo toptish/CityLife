{
 "cells": [
  {
   "cell_type": "markdown",
   "id": "4ff99ed1",
   "metadata": {},
   "source": [
    "# CITY LIFE. Geospatial analysis"
   ]
  },
  {
   "cell_type": "markdown",
   "id": "5270ee34",
   "metadata": {},
   "source": [
    "### Task"
   ]
  },
  {
   "cell_type": "markdown",
   "id": "0f41345f",
   "metadata": {},
   "source": [
    "In this project, you will try to get some valuable insights about customers’\n",
    "and taxi drivers’ behavior. Maybe it will help a taxi company optimize its\n",
    "business.\n",
    "Here are the tasks that you need to do:\n",
    "1. find out and visualize on a map most popular areas where people ordered a taxi as\n",
    "well as where they headed to,\n",
    "2. find out and visualize the most popular routes in different time intervals,\n",
    "3. find in the dataset locations of the city infrastructure and visualize how the customers were arriving at one of them using an animated map,\n",
    "4. visualize one day of a taxi driver and how much money he or she earned using an\n",
    "animated map,\n",
    "5. visualize one day of the city (working day and weekend day) using an animated\n",
    "map."
   ]
  },
  {
   "cell_type": "markdown",
   "id": "76c0b4e6",
   "metadata": {},
   "source": [
    "### Imports"
   ]
  },
  {
   "cell_type": "code",
   "execution_count": null,
   "id": "26541c92",
   "metadata": {},
   "outputs": [],
   "source": [
    "%load_ext autoreload\n",
    "%autoreload 2\n",
    "%matplotlib inline"
   ]
  },
  {
   "cell_type": "code",
   "execution_count": null,
   "id": "ba6b309a",
   "metadata": {},
   "outputs": [],
   "source": [
    "from IPython.utils import io\n",
    "\n",
    "# with io.capture_output() as captured:\n",
    "#     foo()"
   ]
  },
  {
   "cell_type": "code",
   "execution_count": null,
   "id": "71ad100c",
   "metadata": {},
   "outputs": [],
   "source": [
    "import geopandas as gpd\n",
    "# import geoplot\n",
    "import pandas as pd\n",
    "import numpy as np\n",
    "import matplotlib.pyplot as plt\n",
    "import shapely\n",
    "import folium\n",
    "import seaborn as sns\n",
    "import osmnx as ox\n",
    "import networkx as nx\n",
    "import time\n",
    "import geopy\n",
    "import taxicab as tc\n",
    "import warnings\n",
    "\n",
    "from tqdm import tqdm\n",
    "\n",
    "import plotly.graph_objects as go\n",
    "\n",
    "\n",
    "from mpl_toolkits.axes_grid1 import make_axes_locatable\n",
    "\n",
    "from shapely.geometry import Polygon, LineString, Point, MultiPoint\n",
    "from shapely.ops import unary_union\n",
    "\n",
    "from sklearn.cluster import KMeans, DBSCAN\n",
    "from sklearn.metrics import silhouette_score\n",
    "from sklearn.preprocessing import StandardScaler\n",
    "\n",
    "from sklearn.neighbors import KNeighborsClassifier, NearestNeighbors\n",
    "\n",
    "from scipy.spatial import Voronoi, voronoi_plot_2d\n",
    "from scipy.spatial import ConvexHull\n",
    "\n",
    "from datetime import datetime\n",
    "from datetime import timedelta\n",
    "\n",
    "from geovoronoi import voronoi_regions_from_coords\n",
    "from geovoronoi.plotting import subplot_for_map, plot_voronoi_polys_with_points_in_area\n",
    "\n",
    "from kneed import KneeLocator\n",
    "\n",
    "import plotly.express as px\n",
    "from jupyter_dash import JupyterDash\n",
    "from dash import dcc, html\n",
    "# import dash_html_components as html\n",
    "from dash.dependencies import Input, Output\n",
    "from datetime import timezone\n",
    "import pickle\n",
    "\n",
    "from utils import *"
   ]
  },
  {
   "cell_type": "markdown",
   "id": "c9d29f05",
   "metadata": {},
   "source": [
    "### Load data"
   ]
  },
  {
   "cell_type": "code",
   "execution_count": null,
   "id": "f245f676",
   "metadata": {},
   "outputs": [],
   "source": [
    "df_map = gpd.read_file('data/chicago_map.shx')"
   ]
  },
  {
   "cell_type": "code",
   "execution_count": null,
   "id": "928c3ab4",
   "metadata": {},
   "outputs": [],
   "source": [
    "df_map.info()"
   ]
  },
  {
   "cell_type": "code",
   "execution_count": null,
   "id": "48f30574",
   "metadata": {},
   "outputs": [],
   "source": [
    "rush = pd.read_csv('data/rush_hours_empty.csv',\n",
    "                   parse_dates=['Trip End Timestamp'],\n",
    "                   dtype={\n",
    "                       'name': str,\n",
    "                       'longitude': float,\n",
    "                       'latitude': float,\n",
    "                       'num_of_rides': int,\n",
    "                         })"
   ]
  },
  {
   "cell_type": "code",
   "execution_count": null,
   "id": "0b12c341",
   "metadata": {},
   "outputs": [],
   "source": [
    "rush.info()"
   ]
  },
  {
   "cell_type": "code",
   "execution_count": null,
   "id": "5d4e77f2",
   "metadata": {},
   "outputs": [],
   "source": [
    "taxi_loc = pd.read_csv('data/taxi_locations.csv',\n",
    "                       parse_dates=['Trip Start Timestamp', \n",
    "                                    'Trip End Timestamp'],\n",
    "                       index_col='Trip ID',\n",
    "                       dtype={\n",
    "                           'Pickup Centroid Latitude': float,\n",
    "                           'Pickup Centroid Longitude': float,\n",
    "                           'Dropoff Centroid Latitude': float,\n",
    "                           'Dropoff Centroid Longitude': float,\n",
    "                           'Taxi ID': str,\n",
    "                           'Fare': float  \n",
    "                       }\n",
    "                      )"
   ]
  },
  {
   "cell_type": "code",
   "execution_count": null,
   "id": "530bb07b",
   "metadata": {},
   "outputs": [],
   "source": [
    "taxi_loc['Taxi ID'] = taxi_loc['Taxi ID'].astype(\"string\")"
   ]
  },
  {
   "cell_type": "code",
   "execution_count": null,
   "id": "eb62b255",
   "metadata": {},
   "outputs": [],
   "source": [
    "taxi_loc.info()"
   ]
  },
  {
   "cell_type": "markdown",
   "id": "9f4fd275",
   "metadata": {},
   "source": [
    "### Data preparation"
   ]
  },
  {
   "cell_type": "markdown",
   "id": "35cab98b",
   "metadata": {},
   "source": [
    "Set crs to be able to combine dataframes"
   ]
  },
  {
   "cell_type": "code",
   "execution_count": null,
   "id": "c203ae9c",
   "metadata": {},
   "outputs": [],
   "source": [
    "df_map.set_crs(epsg=4326, inplace=True)\n",
    "crs = 'EPSG:4326'"
   ]
  },
  {
   "cell_type": "markdown",
   "id": "caa4c4e1",
   "metadata": {},
   "source": [
    "Create folium map to visualize data in the shapefile (Chicago map)"
   ]
  },
  {
   "cell_type": "code",
   "execution_count": null,
   "id": "268d8796",
   "metadata": {},
   "outputs": [],
   "source": [
    "m = folium.Map(location=[41.85, -87.65], zoom_start=10, tiles='CartoDB positron')"
   ]
  },
  {
   "cell_type": "markdown",
   "id": "19dca09d",
   "metadata": {},
   "source": [
    "Add df_map data to folium map to visualize polygons (districts) on the real map"
   ]
  },
  {
   "cell_type": "code",
   "execution_count": null,
   "id": "638bf09e",
   "metadata": {},
   "outputs": [],
   "source": [
    "for _, r in df_map.iterrows():\n",
    "    sim_geo = gpd.GeoSeries(r['geometry']).simplify(tolerance=0.001)\n",
    "    geo_j = sim_geo.to_json()\n",
    "    geo_j = folium.GeoJson(data=geo_j,\n",
    "                           style_function=lambda x: {'fillColor': 'orange'})\n",
    "    geo_j.add_to(m)"
   ]
  },
  {
   "cell_type": "code",
   "execution_count": null,
   "id": "36b2ce29",
   "metadata": {
    "scrolled": true
   },
   "outputs": [],
   "source": [
    "m"
   ]
  },
  {
   "cell_type": "markdown",
   "id": "999bd0bf",
   "metadata": {},
   "source": [
    "### Dropoff and Pickup columns to geometry type"
   ]
  },
  {
   "cell_type": "code",
   "execution_count": null,
   "id": "1a05de29",
   "metadata": {},
   "outputs": [],
   "source": [
    "taxi_loc['Pickup Centroid Location'] = gpd.GeoSeries.from_wkt(taxi_loc['Pickup Centroid Location'])\n",
    "taxi_loc['Dropoff Centroid  Location'] = gpd.GeoSeries.from_wkt(taxi_loc['Dropoff Centroid  Location'])"
   ]
  },
  {
   "cell_type": "code",
   "execution_count": null,
   "id": "fe2b9a8b",
   "metadata": {},
   "outputs": [],
   "source": [
    "taxi_loc.info()"
   ]
  },
  {
   "cell_type": "markdown",
   "id": "b9b6430e",
   "metadata": {},
   "source": [
    "### Check for NaN values and duplicates"
   ]
  },
  {
   "cell_type": "code",
   "execution_count": null,
   "id": "b2e5e100",
   "metadata": {},
   "outputs": [],
   "source": [
    "taxi_loc.isna().sum()"
   ]
  },
  {
   "cell_type": "code",
   "execution_count": null,
   "id": "8a15d190",
   "metadata": {},
   "outputs": [],
   "source": [
    "taxi_loc_dropna = taxi_loc.drop_duplicates()"
   ]
  },
  {
   "cell_type": "code",
   "execution_count": null,
   "id": "3b8baab1",
   "metadata": {},
   "outputs": [],
   "source": [
    "taxi_loc_no_zero_trip = taxi_loc_dropna.drop(index=taxi_loc_dropna[taxi_loc_dropna['Pickup Centroid Location']==taxi_loc_dropna['Dropoff Centroid  Location']].index)"
   ]
  },
  {
   "cell_type": "code",
   "execution_count": null,
   "id": "08e79a37",
   "metadata": {},
   "outputs": [],
   "source": [
    "taxi_loc_no_zero_trip.info()"
   ]
  },
  {
   "cell_type": "markdown",
   "id": "20a731fe",
   "metadata": {},
   "source": [
    "## 1. Most popular areas"
   ]
  },
  {
   "cell_type": "markdown",
   "id": "adf3d1a5",
   "metadata": {},
   "source": [
    "### 1.1 Clustering analysis"
   ]
  },
  {
   "cell_type": "markdown",
   "id": "1556e383",
   "metadata": {},
   "source": [
    "Conduct clustering analysis of pick point and drop off locations based on their coordinates. Clusters might be different for each of the categories (pickpoints and drop-offs)."
   ]
  },
  {
   "cell_type": "markdown",
   "id": "fdfb9ad4",
   "metadata": {},
   "source": [
    "### Pickpoints"
   ]
  },
  {
   "cell_type": "code",
   "execution_count": null,
   "id": "978bfbad",
   "metadata": {},
   "outputs": [],
   "source": [
    "pickups = taxi_loc_no_zero_trip[['Pickup Centroid Latitude', 'Pickup Centroid Longitude', 'Pickup Centroid Location']]"
   ]
  },
  {
   "cell_type": "code",
   "execution_count": null,
   "id": "00c1bee6",
   "metadata": {},
   "outputs": [],
   "source": [
    "pickup_coords = pickups[['Pickup Centroid Longitude', 'Pickup Centroid Latitude']]"
   ]
  },
  {
   "cell_type": "markdown",
   "id": "8a3822bc",
   "metadata": {},
   "source": [
    "We need to define the best number of clusters. In order to do this we can use elbow rule"
   ]
  },
  {
   "cell_type": "markdown",
   "id": "f79ed002",
   "metadata": {},
   "source": [
    "#### K-means algorythm"
   ]
  },
  {
   "cell_type": "markdown",
   "id": "b15e5a4b",
   "metadata": {},
   "source": [
    "##### Elbow curve"
   ]
  },
  {
   "cell_type": "code",
   "execution_count": null,
   "id": "ed251288",
   "metadata": {},
   "outputs": [],
   "source": [
    "inertia=[]\n",
    "for i in tqdm(range(1,20)):\n",
    "    kmeans = KMeans(n_clusters=i,random_state=42, n_init='auto').fit(pickup_coords)\n",
    "    inertia.append(kmeans.inertia_)\n",
    "plt.plot(range(1,20),inertia)\n",
    "plt.title('Elbow method')\n",
    "plt.xlabel('Number of Clusters')\n",
    "plt.ylabel('Inertia')\n",
    "plt.xticks(np.arange(0,20,1))\n",
    "plt.show()"
   ]
  },
  {
   "cell_type": "markdown",
   "id": "78d5b170",
   "metadata": {},
   "source": [
    "4? clasters is optimal"
   ]
  },
  {
   "cell_type": "markdown",
   "id": "6f2124ca",
   "metadata": {},
   "source": [
    "##### Silhouette value"
   ]
  },
  {
   "cell_type": "code",
   "execution_count": null,
   "id": "529532aa",
   "metadata": {},
   "outputs": [],
   "source": [
    "# score=-1\n",
    "# k=0\n",
    "# for i in tqdm(range(2,20)):\n",
    "#     kmeans = KMeans(n_clusters=i,random_state=0, n_init='auto').fit(pickup_coords.values)\n",
    "#     score2 = silhouette_score(pickup_coords.values,kmeans.predict(pickup_coords.values))\n",
    "#     if score2>score:\n",
    "#         score=score2\n",
    "#         k=i\n",
    "# print('The best number of clusters based on silhouette score is {} with a score of {}.'.format(k,score))"
   ]
  },
  {
   "cell_type": "markdown",
   "id": "f7e3c419",
   "metadata": {},
   "source": [
    "##### Elbow kneed lib"
   ]
  },
  {
   "cell_type": "code",
   "execution_count": null,
   "id": "2a07b03b",
   "metadata": {},
   "outputs": [],
   "source": [
    "elbow_point = KneeLocator(range(1,20),inertia,curve='convex',direction='decreasing')\n",
    "print(elbow_point.knee)"
   ]
  },
  {
   "cell_type": "markdown",
   "id": "9ba97f3b",
   "metadata": {},
   "source": [
    "Fitting kmeans model for pickpoints"
   ]
  },
  {
   "cell_type": "code",
   "execution_count": null,
   "id": "02112d37",
   "metadata": {},
   "outputs": [],
   "source": [
    "n_clusters = 10"
   ]
  },
  {
   "cell_type": "code",
   "execution_count": null,
   "id": "7f632161",
   "metadata": {},
   "outputs": [],
   "source": [
    "kmeans_pick = KMeans(\n",
    "    init=\"k-means++\",\n",
    "    n_clusters=n_clusters,\n",
    "    n_init='auto',\n",
    "    max_iter=300,\n",
    "    random_state=42\n",
    ")"
   ]
  },
  {
   "cell_type": "code",
   "execution_count": null,
   "id": "883e96fa",
   "metadata": {},
   "outputs": [],
   "source": [
    "with warnings.catch_warnings(record=True):\n",
    "\n",
    "    kmeans_pick.fit(pickups[pickups.columns[0:2]]) # Compute k-means clustering.\n",
    "    pickups['pickup_cluster_kmeans'] = kmeans_pick.fit_predict(pickups[pickups.columns[0:2]])\n",
    "    pickups_centers = kmeans_pick.cluster_centers_ # Coordinates of cluster centers.\n",
    "    pickups_labels = kmeans_pick.predict(pickups[pickups.columns[0:2]]) # Labels of each point\n",
    "pickups.head(5)"
   ]
  },
  {
   "cell_type": "markdown",
   "id": "a165d2f6",
   "metadata": {},
   "source": [
    "Creating a geo dataframe from cluster centers points"
   ]
  },
  {
   "cell_type": "code",
   "execution_count": null,
   "id": "c88e9db7",
   "metadata": {},
   "outputs": [],
   "source": [
    "pickups_centers = pd.DataFrame(pickups_centers, columns=['lat', 'long'])"
   ]
  },
  {
   "cell_type": "code",
   "execution_count": null,
   "id": "cae68c92",
   "metadata": {},
   "outputs": [],
   "source": [
    "pickup_centers_coords = pickups_centers[['long', 'lat']].values"
   ]
  },
  {
   "cell_type": "code",
   "execution_count": null,
   "id": "421fde99",
   "metadata": {},
   "outputs": [],
   "source": [
    "geometry = [Point(xy) for xy in zip(pickups_centers['long'], pickups_centers['lat'])]\n",
    "geo_pickups_centers = gpd.GeoDataFrame(pickups_centers, \n",
    "                          crs = crs, \n",
    "                          geometry = geometry)"
   ]
  },
  {
   "cell_type": "code",
   "execution_count": null,
   "id": "1dea54a0",
   "metadata": {},
   "outputs": [],
   "source": [
    "geo_pickups_centers"
   ]
  },
  {
   "cell_type": "code",
   "execution_count": null,
   "id": "9bb00971",
   "metadata": {},
   "outputs": [],
   "source": []
  },
  {
   "cell_type": "markdown",
   "id": "dd2cbc5b",
   "metadata": {},
   "source": [
    "#### DBSCAN algorythm"
   ]
  },
  {
   "cell_type": "markdown",
   "id": "caf875a1",
   "metadata": {},
   "source": [
    "Another clustering algorythm, but too slow for our number of data"
   ]
  },
  {
   "cell_type": "code",
   "execution_count": null,
   "id": "87cbd19f",
   "metadata": {},
   "outputs": [],
   "source": [
    "# pickup_coords_val = pickup_coords.values #Create a numpy array\n"
   ]
  },
  {
   "cell_type": "code",
   "execution_count": null,
   "id": "fc225fe4",
   "metadata": {},
   "outputs": [],
   "source": [
    "# nearest_neighbors = NearestNeighbors(n_neighbors=6)\n",
    "# neighbors = nearest_neighbors.fit(pickup_coords_val)\n",
    "# distances, indices = neighbors.kneighbors(pickup_coords_val)\n",
    "# distances = np.sort(distances[:,5], axis=0)\n",
    "# i = np.arange(len(distances))\n",
    "# knee = KneeLocator(i, distances, S=1, curve='convex', direction='increasing', interp_method='polynomial')\n",
    "# # We use the polynomial interp_method in this one to get a smooth line\n",
    "# fig = plt.figure(figsize=(5, 5))\n",
    "# knee.plot_knee()\n",
    "# plt.xlabel(\"Points\")\n",
    "# plt.ylabel(\"Distance\")\n",
    "# plt.show()\n",
    "# print('The elbow point is at around {}'.format(round(distances[knee.knee],3)))"
   ]
  },
  {
   "cell_type": "code",
   "execution_count": null,
   "id": "67be3aa2",
   "metadata": {},
   "outputs": [],
   "source": [
    "# dbscan = DBSCAN(eps=0.045)\n",
    "# dbscan.fit(pickup_coords_val)\n",
    "# dbscan_predictions = dbscan.labels_\n",
    "# pickups['Cluster_DBSCAN'] = dbscan_predictions\n",
    "# vectorizer = np.vectorize(lambda x: colors[x % len(colors)])\n",
    "# # pickups['Colors_DBSCAN'] = vectorizer(dbscan_predictions)"
   ]
  },
  {
   "cell_type": "markdown",
   "id": "b0f2b89e",
   "metadata": {},
   "source": [
    "Other clustering algos"
   ]
  },
  {
   "cell_type": "markdown",
   "id": "b4860f6b",
   "metadata": {},
   "source": [
    "Mean-shift algorythm, Expectation–Maximization (EM) Clustering using Gaussian Mixture Models (GMM), Agglomerative Hierarchical Clustering"
   ]
  },
  {
   "cell_type": "markdown",
   "id": "df7e5e13",
   "metadata": {},
   "source": [
    "### Drop-offs"
   ]
  },
  {
   "cell_type": "code",
   "execution_count": null,
   "id": "8d6be0d3",
   "metadata": {},
   "outputs": [],
   "source": [
    "dropoffs = taxi_loc_no_zero_trip[['Dropoff Centroid Latitude', 'Dropoff Centroid Longitude', 'Dropoff Centroid  Location']]\n",
    "dropoff_coords = dropoffs[['Dropoff Centroid Latitude', 'Dropoff Centroid Longitude']]"
   ]
  },
  {
   "cell_type": "markdown",
   "id": "3b4bcb93",
   "metadata": {},
   "source": [
    "#### Elbow curve"
   ]
  },
  {
   "cell_type": "code",
   "execution_count": null,
   "id": "e25024a0",
   "metadata": {},
   "outputs": [],
   "source": [
    "inertia=[]\n",
    "for i in tqdm(range(1,20)):\n",
    "    kmeans = KMeans(n_clusters=i,random_state=0, n_init='auto').fit(dropoff_coords)\n",
    "    inertia.append(kmeans.inertia_)\n",
    "plt.plot(range(1,20),inertia)\n",
    "plt.title('Elbow method')\n",
    "plt.xlabel('Number of Clusters')\n",
    "plt.ylabel('Inertia')\n",
    "plt.xticks(np.arange(0,20,1))\n",
    "plt.show()"
   ]
  },
  {
   "cell_type": "markdown",
   "id": "eb7ce08b",
   "metadata": {},
   "source": [
    "4 clusters is optimal"
   ]
  },
  {
   "cell_type": "markdown",
   "id": "e57bd384",
   "metadata": {},
   "source": [
    "##### Elbow kneed lib"
   ]
  },
  {
   "cell_type": "code",
   "execution_count": null,
   "id": "9a1c8e20",
   "metadata": {},
   "outputs": [],
   "source": [
    "elbow_point = KneeLocator(range(1,20),inertia,curve='convex',direction='decreasing')\n",
    "print(elbow_point.knee)"
   ]
  },
  {
   "cell_type": "code",
   "execution_count": null,
   "id": "f2de1c37",
   "metadata": {},
   "outputs": [],
   "source": [
    "n_clusters = 15"
   ]
  },
  {
   "cell_type": "code",
   "execution_count": null,
   "id": "c4499f24",
   "metadata": {},
   "outputs": [],
   "source": [
    "kmeans_drop = KMeans(\n",
    "    init=\"random\",\n",
    "    n_clusters=n_clusters,\n",
    "    n_init='auto',\n",
    "    max_iter=300,\n",
    "    random_state=42\n",
    ")"
   ]
  },
  {
   "cell_type": "code",
   "execution_count": null,
   "id": "eaefee0b",
   "metadata": {},
   "outputs": [],
   "source": [
    "with warnings.catch_warnings(record=True):\n",
    "\n",
    "    kmeans_drop.fit(dropoffs[dropoffs.columns[0:2]]) # Compute k-means clustering.\n",
    "    dropoffs['dropoff_cluster_kmeans'] = kmeans_drop.fit_predict(dropoffs[dropoffs.columns[0:2]])\n",
    "    dropoffs_centers = kmeans_drop.cluster_centers_ # Coordinates of cluster centers.\n",
    "    dropoffs_labels = kmeans_drop.predict(dropoffs[dropoffs.columns[0:2]]) # Labels of each point\n",
    "dropoffs.head(5)"
   ]
  },
  {
   "cell_type": "code",
   "execution_count": null,
   "id": "b0fe05be",
   "metadata": {},
   "outputs": [],
   "source": [
    "dropoffs_centers = pd.DataFrame(dropoffs_centers, columns=['lat', 'long'])\n",
    "dropoff_centers_coords = dropoffs_centers[['long', 'lat']].values"
   ]
  },
  {
   "cell_type": "code",
   "execution_count": null,
   "id": "236ac2df",
   "metadata": {},
   "outputs": [],
   "source": [
    "geometry = [Point(xy) for xy in zip(dropoffs_centers['long'], dropoffs_centers['lat'])]\n",
    "geo_dropoffs_centers = gpd.GeoDataFrame(dropoffs_centers, \n",
    "                          crs = crs, \n",
    "                          geometry = geometry)"
   ]
  },
  {
   "cell_type": "code",
   "execution_count": null,
   "id": "4c465467",
   "metadata": {},
   "outputs": [],
   "source": [
    "geo_dropoffs_centers"
   ]
  },
  {
   "cell_type": "markdown",
   "id": "9df6e76e",
   "metadata": {},
   "source": [
    "### 1.2 Cluster borders and centroids"
   ]
  },
  {
   "cell_type": "markdown",
   "id": "b2183c7e",
   "metadata": {},
   "source": [
    "Draw the borders and centroids of the clusters on a map. You will have two maps."
   ]
  },
  {
   "cell_type": "markdown",
   "id": "f2f4493e",
   "metadata": {},
   "source": [
    "Prepare data and make polygons for pickup clusters (Voronoi diagram)"
   ]
  },
  {
   "cell_type": "markdown",
   "id": "d32f71a4",
   "metadata": {},
   "source": [
    "<!-- ### Pickups -->"
   ]
  },
  {
   "cell_type": "code",
   "execution_count": null,
   "id": "4df41410",
   "metadata": {},
   "outputs": [],
   "source": [
    "geometry = pickups['Pickup Centroid Location']\n",
    "geo_pickups = gpd.GeoDataFrame(pickups, \n",
    "                          crs = crs, \n",
    "                          geometry = geometry)"
   ]
  },
  {
   "cell_type": "code",
   "execution_count": null,
   "id": "4640ce2e",
   "metadata": {},
   "outputs": [],
   "source": [
    "area = df_map.unary_union"
   ]
  },
  {
   "cell_type": "code",
   "execution_count": null,
   "id": "f992d613",
   "metadata": {},
   "outputs": [],
   "source": [
    "geo_pickups_centers"
   ]
  },
  {
   "cell_type": "code",
   "execution_count": null,
   "id": "478d14aa",
   "metadata": {},
   "outputs": [],
   "source": [
    "with warnings.catch_warnings(record=True):\n",
    "    pickup_polys, pickup_pts = voronoi_regions_from_coords(pickup_centers_coords, area)"
   ]
  },
  {
   "cell_type": "code",
   "execution_count": null,
   "id": "22ceb93b",
   "metadata": {},
   "outputs": [],
   "source": [
    "pickup_polys_df = pd.DataFrame.from_dict(pickup_polys, orient='index')\n",
    "pickup_polys_df = gpd.GeoDataFrame(pickup_polys_df, geometry=0)\n"
   ]
  },
  {
   "cell_type": "markdown",
   "id": "6b93e1dd",
   "metadata": {},
   "source": [
    "Prepare data and make polygons fro dropoff clusters"
   ]
  },
  {
   "cell_type": "code",
   "execution_count": null,
   "id": "748d351e",
   "metadata": {},
   "outputs": [],
   "source": [
    "geometry = dropoffs['Dropoff Centroid  Location']\n",
    "geo_dropoffs = gpd.GeoDataFrame(dropoffs, \n",
    "                          crs = crs, \n",
    "                          geometry = geometry)"
   ]
  },
  {
   "cell_type": "code",
   "execution_count": null,
   "id": "39007e43",
   "metadata": {},
   "outputs": [],
   "source": [
    "with warnings.catch_warnings(record=True):\n",
    "\n",
    "    dropoff_polys, dropoff_pts = voronoi_regions_from_coords(dropoff_centers_coords, area)\n",
    "    dropoff_polys_df = pd.DataFrame.from_dict(dropoff_polys, orient='index')\n",
    "    dropoff_polys_df = gpd.GeoDataFrame(dropoff_polys_df, geometry=0)"
   ]
  },
  {
   "cell_type": "code",
   "execution_count": null,
   "id": "a7245242",
   "metadata": {
    "scrolled": true
   },
   "outputs": [],
   "source": [
    "# fig, (ax1, ax2) = plt.subplots(nrows=1, ncols=2,figsize = (10,10))\n",
    "# df_map.plot(ax=ax1, color='#554d4d', legend=True, )\n",
    "# geo_pickups.plot(ax=ax1, cmap='tab20', column='pickup_cluster_kmeans', markersize=5)\n",
    "# pickup_polys_df.plot(ax=ax1, cmap='tab20', column=0, alpha=0.8)\n",
    "# ax1.set_title('Chicago pickpoints')\n",
    "# geo_pickups_centers.plot(ax=ax1, color='#ce79a5', markersize=30)\n",
    "\n",
    "# df_map.plot(ax=ax2, color='#554d4d', legend=True, )\n",
    "# dropoff_polys_df.plot(ax=ax2, cmap='tab20', column=0, alpha=0.8)\n",
    "# geo_dropoffs.plot(ax=ax2, cmap='tab20', column='dropoff_cluster_kmeans', markersize=5)\n",
    "# ax2.set_title('Chicago dropoffs')\n",
    "# geo_dropoffs_centers.plot(ax=ax2, color='#ce79a5', markersize=30)\n",
    "\n",
    "\n",
    "# plt.show()"
   ]
  },
  {
   "cell_type": "markdown",
   "id": "f3f4f56f",
   "metadata": {},
   "source": [
    "### 1.3. Largest number of pick points and drop-offs"
   ]
  },
  {
   "cell_type": "markdown",
   "id": "8e733b58",
   "metadata": {},
   "source": [
    "<!-- ### 7687"
   ]
  },
  {
   "cell_type": "markdown",
   "id": "609306d7",
   "metadata": {},
   "source": [
    "Use a color scale to show which clusters (i.e. areas) have the largest number of pick\n",
    "points and drop-offs."
   ]
  },
  {
   "cell_type": "markdown",
   "id": "f5290ec0",
   "metadata": {},
   "source": [
    "#### Pickups"
   ]
  },
  {
   "cell_type": "code",
   "execution_count": null,
   "id": "e4903515",
   "metadata": {},
   "outputs": [],
   "source": [
    "pickups_clusters = pickups.groupby('pickup_cluster_kmeans')['Pickup Centroid Location'].count()\n",
    "pickups_clusters.sort_values(ascending=False)\n",
    "pickups_clusters_df = pd.DataFrame(pickups_clusters)\n",
    "pickups_clusters_df = pickups_clusters_df.rename(columns={'Pickup Centroid Location': 'kmeans_cluster_observations'}).reset_index()"
   ]
  },
  {
   "cell_type": "code",
   "execution_count": null,
   "id": "4bce7b52",
   "metadata": {},
   "outputs": [],
   "source": [
    "pickup_polys_df_ = pickup_polys_df.reset_index().rename(columns={'index': 'pickup_cluster_kmeans'})\n",
    "pickup_polys_df_ = pickup_polys_df_.merge(pickups_clusters_df, on='pickup_cluster_kmeans')"
   ]
  },
  {
   "cell_type": "markdown",
   "id": "19cf8ce8",
   "metadata": {},
   "source": [
    "#### Dropoffs"
   ]
  },
  {
   "cell_type": "code",
   "execution_count": null,
   "id": "3f2648dd",
   "metadata": {},
   "outputs": [],
   "source": [
    "dropoffs_clusters = dropoffs.groupby('dropoff_cluster_kmeans')['Dropoff Centroid  Location'].count()\n",
    "dropoffs_clusters.sort_values(ascending=False)\n",
    "dropoffs_clusters_df = pd.DataFrame(dropoffs_clusters)\n",
    "dropoffs_clusters_df = dropoffs_clusters_df.rename(columns={'Dropoff Centroid  Location': 'kmeans_cluster_observations'}).reset_index()"
   ]
  },
  {
   "cell_type": "code",
   "execution_count": null,
   "id": "84db3142",
   "metadata": {},
   "outputs": [],
   "source": [
    "dropoff_polys_df_ = dropoff_polys_df.reset_index().rename(columns={'index': 'dropoff_cluster_kmeans'})\n",
    "dropoff_polys_df_ = dropoff_polys_df_.merge(dropoffs_clusters_df, on='dropoff_cluster_kmeans')"
   ]
  },
  {
   "cell_type": "code",
   "execution_count": null,
   "id": "aa1d25b7",
   "metadata": {},
   "outputs": [],
   "source": [
    "dropoff_polys_df_"
   ]
  },
  {
   "cell_type": "code",
   "execution_count": null,
   "id": "c815cf89",
   "metadata": {},
   "outputs": [],
   "source": [
    "# fig, (ax1, ax2) = plt.subplots(nrows=1, ncols=2, figsize = (12,10))\n",
    "# df_map.plot(ax=ax1, color='#554d4d')\n",
    "# # geo_pickups.plot(ax=ax1, cmap='Set2', column='pickup_cluster_kmeans', markersize=5)\n",
    "# divider = make_axes_locatable(ax1)\n",
    "# cax = divider.append_axes(\"right\", size=\"5%\", pad=0.1)\n",
    "# pickup_polys_df_.plot(ax=ax1, cax=cax, cmap='viridis', column='kmeans_cluster_observations', alpha=0.8, legend=True)\n",
    "# ax1.set_title('Chicago pickpoints')\n",
    "# # geo_pickups_centers.plot(ax=ax1, color='#e2c1d2', markersize=30)\n",
    "\n",
    "# df_map.plot(ax=ax2, color='#554d4d')\n",
    "# divider = make_axes_locatable(ax2)\n",
    "# cax = divider.append_axes(\"right\", size=\"5%\", pad=0.1)\n",
    "# dropoff_polys_df_.plot(ax=ax2, cax=cax, cmap='viridis', column='kmeans_cluster_observations', alpha=0.8, legend=True)\n",
    "# # geo_dropoffs.plot(ax=ax2, cmap='Set2', column='dropoff_cluster_kmeans', markersize=5)\n",
    "# ax2.set_title('Chicago dropoffs')\n",
    "# # geo_dropoffs_centers.plot(ax=ax2, color='#e2c1d2', markersize=30)\n",
    "\n",
    "\n",
    "# plt.show()"
   ]
  },
  {
   "cell_type": "markdown",
   "id": "5e88c582",
   "metadata": {},
   "source": [
    "## 2. Most popular routes"
   ]
  },
  {
   "cell_type": "markdown",
   "id": "678cb6bb",
   "metadata": {},
   "source": [
    "### 2.1 Clustering analysis"
   ]
  },
  {
   "cell_type": "markdown",
   "id": "70f357d4",
   "metadata": {},
   "source": [
    "Conduct a clustering analysis of taxi rides based on the coordinates of the pick\n",
    "point location and drop off."
   ]
  },
  {
   "cell_type": "code",
   "execution_count": null,
   "id": "177bc6c1",
   "metadata": {},
   "outputs": [],
   "source": [
    "routes = taxi_loc_no_zero_trip[['Pickup Centroid Longitude', 'Pickup Centroid Latitude', 'Dropoff Centroid Longitude', 'Dropoff Centroid Latitude']]\n",
    "routes_val = routes.values"
   ]
  },
  {
   "cell_type": "code",
   "execution_count": null,
   "id": "9d2a5886",
   "metadata": {},
   "outputs": [],
   "source": [
    "inertia=[]\n",
    "for i in tqdm(range(1,20)):\n",
    "    kmeans = KMeans(n_clusters=i,random_state=42, n_init='auto').fit(routes_val)\n",
    "    inertia.append(kmeans.inertia_)\n",
    "plt.plot(range(1,20),inertia)\n",
    "plt.title('Elbow method')\n",
    "plt.xlabel('Number of Clusters')\n",
    "plt.ylabel('Inertia')\n",
    "plt.xticks(np.arange(0,20,1))\n",
    "plt.show()"
   ]
  },
  {
   "cell_type": "code",
   "execution_count": null,
   "id": "86f0485b",
   "metadata": {},
   "outputs": [],
   "source": [
    "elbow_point = KneeLocator(range(1,20),inertia,curve='convex',direction='decreasing')\n",
    "print(elbow_point.knee)"
   ]
  },
  {
   "cell_type": "code",
   "execution_count": null,
   "id": "6b85b6b9",
   "metadata": {},
   "outputs": [],
   "source": [
    "n_clusters = 10"
   ]
  },
  {
   "cell_type": "code",
   "execution_count": null,
   "id": "5534c0e2",
   "metadata": {},
   "outputs": [],
   "source": [
    "kmeans_routes = KMeans(\n",
    "    init=\"random\",\n",
    "    n_clusters=n_clusters,\n",
    "    n_init='auto',\n",
    "    max_iter=300,\n",
    "    random_state=42\n",
    ")"
   ]
  },
  {
   "cell_type": "code",
   "execution_count": null,
   "id": "3c47a4c1",
   "metadata": {},
   "outputs": [],
   "source": [
    "with warnings.catch_warnings(record=True):\n",
    "\n",
    "    kmeans_routes.fit(routes_val) # Compute k-means clustering.\n",
    "    routes['routes_cluster_kmeans'] = kmeans_routes.fit_predict(routes_val)\n",
    "    routes_centers = kmeans_routes.cluster_centers_ # Coordinates of cluster centers.\n",
    "    routes_labels = kmeans_routes.predict(routes_val) # Labels of each point\n",
    "routes.head(5)"
   ]
  },
  {
   "cell_type": "code",
   "execution_count": null,
   "id": "83916216",
   "metadata": {},
   "outputs": [],
   "source": [
    "routes_centers_df = pd.DataFrame(routes_centers, columns=['Pickup Centroid Longitude', 'Pickup Centroid Latitude', 'Dropoff Centroid Longitude', 'Dropoff Centroid Latitude'])"
   ]
  },
  {
   "cell_type": "code",
   "execution_count": null,
   "id": "352b9b32",
   "metadata": {},
   "outputs": [],
   "source": [
    "geometry = [MultiPoint([(x,y),(j,k)]) for x,y,j,k in zip(routes_centers_df['Pickup Centroid Longitude'], \n",
    "                                           routes_centers_df['Pickup Centroid Latitude'],\n",
    "                                          routes_centers_df['Dropoff Centroid Longitude'],\n",
    "                                           routes_centers_df['Dropoff Centroid Latitude'])]\n",
    "geo_routes_centers = gpd.GeoDataFrame(routes_centers_df, crs=crs, geometry=geometry)\n",
    "geo_routes_centers = geo_routes_centers.reset_index()"
   ]
  },
  {
   "cell_type": "code",
   "execution_count": null,
   "id": "651951b1",
   "metadata": {},
   "outputs": [],
   "source": [
    "routes_clusters = routes.groupby('routes_cluster_kmeans')['Pickup Centroid Longitude'].count()\n"
   ]
  },
  {
   "cell_type": "code",
   "execution_count": null,
   "id": "9b0df7fe",
   "metadata": {
    "scrolled": true
   },
   "outputs": [],
   "source": [
    "top_clusters = routes_clusters.sort_values(ascending=False)[0:5].index"
   ]
  },
  {
   "cell_type": "code",
   "execution_count": null,
   "id": "0f7a0483",
   "metadata": {},
   "outputs": [],
   "source": [
    "top_clusters"
   ]
  },
  {
   "cell_type": "markdown",
   "id": "a0d27782",
   "metadata": {},
   "source": [
    "### 2.2 Centroids"
   ]
  },
  {
   "cell_type": "markdown",
   "id": "fedea9ae",
   "metadata": {},
   "source": [
    "Draw centroids of the top 5 popular clusters (routes)."
   ]
  },
  {
   "cell_type": "code",
   "execution_count": null,
   "id": "0d57faf5",
   "metadata": {},
   "outputs": [],
   "source": [
    "geo_top_routes = geo_routes_centers.iloc[top_clusters]"
   ]
  },
  {
   "cell_type": "code",
   "execution_count": null,
   "id": "013860ee",
   "metadata": {},
   "outputs": [],
   "source": [
    "fig, ax = plt.subplots(figsize = (12,10))\n",
    "df_map.plot(ax=ax, color='#554d4d')\n",
    "# divider = make_axes_locatable(ax1)\n",
    "# cax = divider.append_axes(\"right\", size=\"5%\", pad=0.1)\n",
    "geo_top_routes.plot(ax=ax, cmap='tab20', column='index',)\n",
    "ax.set_title('Chicago routes')\n",
    "\n",
    "plt.show()"
   ]
  },
  {
   "cell_type": "markdown",
   "id": "98495048",
   "metadata": {},
   "source": [
    "### 2.3 Draw routes"
   ]
  },
  {
   "cell_type": "markdown",
   "id": "eda346e5",
   "metadata": {},
   "source": [
    "Draw routes between centroids of a cluster – not a direct line from point A to point\n",
    "B, but a path that takes into account the city streets."
   ]
  },
  {
   "cell_type": "code",
   "execution_count": null,
   "id": "955acb78",
   "metadata": {},
   "outputs": [],
   "source": [
    "ox.settings.log_console=True\n",
    "ox.settings.use_cache=True\n",
    "place = 'Chicago, United States'\n",
    "mode = 'drive' # 'drive', 'bike', 'walk'\n",
    "# graph = ox.graph_from_place(place, network_type = mode)"
   ]
  },
  {
   "cell_type": "code",
   "execution_count": null,
   "id": "7a397f5b",
   "metadata": {},
   "outputs": [],
   "source": [
    "G = ox.graph_from_polygon(\n",
    "    polygon = area, \n",
    "    retain_all=False, \n",
    "    network_type = mode,\n",
    "#     truncate_by_edge=True, \n",
    "#     simplify=False,\n",
    ")\n",
    "G = ox.add_edge_speeds(G)\n",
    "G = ox.add_edge_travel_times(G)\n",
    "G = ox.utils_graph.get_largest_component(G, strongly=True)"
   ]
  },
  {
   "cell_type": "code",
   "execution_count": null,
   "id": "dd2f32c7",
   "metadata": {},
   "outputs": [],
   "source": [
    "top_routes = [get_route(G, (r['Pickup Centroid Latitude'], r['Pickup Centroid Longitude']), (r['Dropoff Centroid Latitude'], r['Dropoff Centroid Longitude'])) for _, r in geo_top_routes.iterrows()]"
   ]
  },
  {
   "cell_type": "code",
   "execution_count": null,
   "id": "aa380bb9",
   "metadata": {},
   "outputs": [],
   "source": [
    "top_routes_taxicab = [tc.distance.shortest_path(G, (r['Pickup Centroid Latitude'], r['Pickup Centroid Longitude']), (r['Dropoff Centroid Latitude'], r['Dropoff Centroid Longitude'])) for _, r in geo_top_routes.iterrows()]"
   ]
  },
  {
   "cell_type": "code",
   "execution_count": null,
   "id": "a3fb0903",
   "metadata": {},
   "outputs": [],
   "source": [
    "rc = ['r', 'y', 'c', 'g', 'white']\n",
    "fig, ax = ox.plot_graph_routes(G, top_routes, route_colors=rc, node_size=0)"
   ]
  },
  {
   "cell_type": "code",
   "execution_count": null,
   "id": "d8f455c3",
   "metadata": {},
   "outputs": [],
   "source": [
    "palette = sns.color_palette(\"tab10\", 10).as_hex()"
   ]
  },
  {
   "cell_type": "code",
   "execution_count": null,
   "id": "cc629e92",
   "metadata": {},
   "outputs": [],
   "source": [
    "geo_top_routes.reset_index(drop=True, inplace=True)"
   ]
  },
  {
   "cell_type": "code",
   "execution_count": null,
   "id": "9b5dd051",
   "metadata": {},
   "outputs": [],
   "source": [
    "rc = palette[:5]\n",
    "route_map = ox.plot_route_folium(G, top_routes_taxicab[0][1], tiles='openstreetmap', color=rc[0], opacity=0.5)\n",
    "\n",
    "for i in range(len(top_routes[1:])):\n",
    "    route_map = ox.plot_route_folium(G, top_routes_taxicab[i+1][1], route_map=route_map, color=rc[i+1], opacity=0.5)\n",
    "    \n",
    "for i, r in geo_top_routes.iterrows():\n",
    "    folium.CircleMarker(\n",
    "        location=[r['Pickup Centroid Latitude'], r['Pickup Centroid Longitude']],\n",
    "        radius=10,\n",
    "        popup=\"Centroid pickpoint coords\",\n",
    "        color=rc[i],\n",
    "#         fill=True,\n",
    "#         fill_color=\"#3186cc\",\n",
    "    ).add_to(route_map)\n",
    "    folium.CircleMarker(\n",
    "        location=[r['Dropoff Centroid Latitude'], r['Dropoff Centroid Longitude']],\n",
    "        radius=10,\n",
    "        popup=\"Centroid dropoff coords\",\n",
    "        color=rc[i],\n",
    "        fill=True,\n",
    "        fill_color=rc[i],\n",
    "        fill_opacity=0.7,\n",
    "    ).add_to(route_map)"
   ]
  },
  {
   "cell_type": "code",
   "execution_count": null,
   "id": "a875f6a8",
   "metadata": {},
   "outputs": [],
   "source": [
    "route_map"
   ]
  },
  {
   "cell_type": "markdown",
   "id": "f4f7a8ea",
   "metadata": {},
   "source": [
    "## 3. City infrastructure"
   ]
  },
  {
   "cell_type": "markdown",
   "id": "6a497119",
   "metadata": {},
   "source": [
    "1. Find locations of the city infrastructure (airports, stadiums, parks, universities)\n",
    "using the data and make up your own algorithm of how to find them. Find at least\n",
    "6 of that kind of location."
   ]
  },
  {
   "cell_type": "code",
   "execution_count": null,
   "id": "55770e13",
   "metadata": {},
   "outputs": [],
   "source": [
    "def get_location_by_address(address):\n",
    "    \"\"\"This function returns a location as raw from an address\n",
    "    will repeat until success\"\"\"\n",
    "    time.sleep(1)\n",
    "    try:\n",
    "        return app.geocode(address).raw\n",
    "    except:\n",
    "        return get_location_by_address(address)"
   ]
  },
  {
   "cell_type": "code",
   "execution_count": null,
   "id": "f7f24dcc",
   "metadata": {},
   "outputs": [],
   "source": [
    "from geopy.geocoders import Nominatim"
   ]
  },
  {
   "cell_type": "code",
   "execution_count": null,
   "id": "f953909e",
   "metadata": {},
   "outputs": [],
   "source": [
    "app = Nominatim(user_agent=\"CityLife\")\n"
   ]
  },
  {
   "cell_type": "code",
   "execution_count": null,
   "id": "7d1e177b",
   "metadata": {},
   "outputs": [],
   "source": [
    "address = \"10000 West O'Hare Ave Chicago IL 60666\""
   ]
  },
  {
   "cell_type": "code",
   "execution_count": null,
   "id": "182ebdb5",
   "metadata": {},
   "outputs": [],
   "source": [
    "# location = get_location_by_address(address)"
   ]
  },
  {
   "cell_type": "code",
   "execution_count": null,
   "id": "66a3990a",
   "metadata": {},
   "outputs": [],
   "source": [
    "# location = app.geocode(address).raw"
   ]
  },
  {
   "cell_type": "code",
   "execution_count": null,
   "id": "54fcb87f",
   "metadata": {},
   "outputs": [],
   "source": []
  },
  {
   "cell_type": "markdown",
   "id": "76657c5a",
   "metadata": {},
   "source": [
    "2. Find the rush hour for each of the locations – timestamp when the location had the\n",
    "largest number of dropoffs and save the information into that file : \"rush_hours_empty.csv\"\n",
    "(in attachment)."
   ]
  },
  {
   "cell_type": "code",
   "execution_count": null,
   "id": "ac53b19c",
   "metadata": {},
   "outputs": [],
   "source": []
  },
  {
   "cell_type": "code",
   "execution_count": null,
   "id": "66d5eea7",
   "metadata": {},
   "outputs": [],
   "source": []
  },
  {
   "cell_type": "code",
   "execution_count": null,
   "id": "8d7b3661",
   "metadata": {},
   "outputs": [],
   "source": []
  },
  {
   "cell_type": "code",
   "execution_count": null,
   "id": "87c85c67",
   "metadata": {},
   "outputs": [],
   "source": []
  },
  {
   "cell_type": "code",
   "execution_count": null,
   "id": "2598d852",
   "metadata": {},
   "outputs": [],
   "source": []
  },
  {
   "cell_type": "markdown",
   "id": "06a56765",
   "metadata": {},
   "source": [
    "3. Visualize one day of any of the locations including that rush hour showing how\n",
    "people from different places were coming to the location and then were leaving it\n",
    "on an animated map."
   ]
  },
  {
   "cell_type": "markdown",
   "id": "0b2418e4",
   "metadata": {},
   "source": [
    "4. When the ride finishes, it should disappear on the map. In other words, it should\n",
    "look like firing neurons in the brain."
   ]
  },
  {
   "cell_type": "markdown",
   "id": "176668d3",
   "metadata": {},
   "source": [
    "5. The map should display time."
   ]
  },
  {
   "cell_type": "code",
   "execution_count": null,
   "id": "5c6c41e9",
   "metadata": {},
   "outputs": [],
   "source": []
  },
  {
   "cell_type": "code",
   "execution_count": null,
   "id": "55abd158",
   "metadata": {},
   "outputs": [],
   "source": []
  },
  {
   "cell_type": "markdown",
   "id": "972528e7",
   "metadata": {},
   "source": [
    "## 4. One day of a taxi driver"
   ]
  },
  {
   "cell_type": "markdown",
   "id": "2c5d0e10",
   "metadata": {},
   "source": [
    "1. For the taxi driver with ID (2ea4ad2950f3bbdfdcfa7adb48e0dcee49d8a714b7024342f0302\n",
    "eeb9e891dfd55a6f35bb7bc7af06398fb4f55583e1659cb11b432848296bfd2b7d3084e7de1)\n",
    "visualize his or her rides during the day (2019-05-31). Display the current amount\n",
    "of money earned."
   ]
  },
  {
   "cell_type": "markdown",
   "id": "68eabc38",
   "metadata": {},
   "source": [
    "2. When the ride finishes, it should NOT disappear on the animated map"
   ]
  },
  {
   "cell_type": "markdown",
   "id": "9318f405",
   "metadata": {},
   "source": [
    "3. Every time the ride finishes the counter of money should be updated."
   ]
  },
  {
   "cell_type": "markdown",
   "id": "d21c39bf",
   "metadata": {},
   "source": [
    "4. The map should display time."
   ]
  },
  {
   "cell_type": "code",
   "execution_count": null,
   "id": "19442dd0",
   "metadata": {},
   "outputs": [],
   "source": [
    "id_taxi = '2ea4ad2950f3bbdfdcfa7adb48e0dcee49d8a714b7024342f0302eeb9e891dfd55a6f35bb7bc7af06398fb4f55583e1659cb11b432848296bfd2b7d3084e7de1'"
   ]
  },
  {
   "cell_type": "code",
   "execution_count": null,
   "id": "5fa818ee",
   "metadata": {},
   "outputs": [],
   "source": [
    "date = datetime.strptime('2019-05-31', '%Y-%m-%d')\n",
    "end_date = date + timedelta(days=1)"
   ]
  },
  {
   "cell_type": "code",
   "execution_count": null,
   "id": "74b64090",
   "metadata": {},
   "outputs": [],
   "source": [
    "date_range_taxi = pd.date_range(date, end_date, freq='15min', inclusive='left')"
   ]
  },
  {
   "cell_type": "code",
   "execution_count": null,
   "id": "eda6ae3e",
   "metadata": {},
   "outputs": [],
   "source": [
    "date_range_time = [x.strftime('%H:%M') for x in date_range_taxi]"
   ]
  },
  {
   "cell_type": "markdown",
   "id": "fe702df3",
   "metadata": {},
   "source": [
    "Let's select trip data for a particular taxi ID and date"
   ]
  },
  {
   "cell_type": "code",
   "execution_count": null,
   "id": "d5d541ff",
   "metadata": {},
   "outputs": [],
   "source": [
    "with warnings.catch_warnings(record=True):\n",
    "\n",
    "    taxi_data = taxi_loc[taxi_loc['Taxi ID'] == id_taxi][(taxi_loc['Trip Start Timestamp'] >= date) & (taxi_loc['Trip Start Timestamp'] < end_date)]"
   ]
  },
  {
   "cell_type": "code",
   "execution_count": null,
   "id": "ea3e8065",
   "metadata": {},
   "outputs": [],
   "source": [
    "taxi_data.sort_values('Trip Start Timestamp', inplace=True)"
   ]
  },
  {
   "cell_type": "markdown",
   "id": "53b3c049",
   "metadata": {},
   "source": [
    "If we look at the data we can see that multiple trips for one taxi driver start at the same time, but have different ids and sometimes different dropoffs. We assume that this happens when a driver takes several passengers at the same time. Each passenger is assigned a distinct trip id value.\n",
    "We need to make some aggregations bypass this situation"
   ]
  },
  {
   "cell_type": "code",
   "execution_count": null,
   "id": "a7a4e7c0",
   "metadata": {},
   "outputs": [],
   "source": [
    "grouped1 = taxi_data.groupby(['Trip Start Timestamp',\n",
    "                   'Trip End Timestamp',\n",
    "                   'Pickup Centroid Latitude',\n",
    "                  'Pickup Centroid Longitude',\n",
    "                  'Dropoff Centroid Latitude',\n",
    "                  'Dropoff Centroid Longitude'], as_index=False)['Fare'].sum()\n",
    "grouped2 = grouped1.groupby('Trip Start Timestamp',  as_index=False).agg({\n",
    "    'Trip End Timestamp': 'max',\n",
    "    'Pickup Centroid Latitude': 'min',\n",
    "    'Pickup Centroid Longitude': 'min',\n",
    "    'Dropoff Centroid Latitude': 'max',\n",
    "    'Dropoff Centroid Longitude': 'max',\n",
    "    'Fare': 'sum'\n",
    "})"
   ]
  },
  {
   "cell_type": "markdown",
   "id": "5984e504",
   "metadata": {},
   "source": [
    "Lets make a list of routes for all rides"
   ]
  },
  {
   "cell_type": "code",
   "execution_count": null,
   "id": "bc6289c2",
   "metadata": {},
   "outputs": [],
   "source": [
    "taxi_routes = [get_route(G, (r['Pickup Centroid Latitude'], r['Pickup Centroid Longitude']), (r['Dropoff Centroid Latitude'], r['Dropoff Centroid Longitude'])) for _, r in grouped2.iterrows()]"
   ]
  },
  {
   "cell_type": "markdown",
   "id": "a8ec2ab5",
   "metadata": {},
   "source": [
    "Adding routes and route's lat and long clumns to a dataframe"
   ]
  },
  {
   "cell_type": "code",
   "execution_count": null,
   "id": "09be0c1d",
   "metadata": {},
   "outputs": [],
   "source": [
    "grouped2['route'] = pd.Series(taxi_routes)\n",
    "grouped2['lat'], grouped2['long'] = zip(*grouped2['route'].map(get_nodes_coords))"
   ]
  },
  {
   "cell_type": "code",
   "execution_count": null,
   "id": "c8ef0bf2",
   "metadata": {},
   "outputs": [],
   "source": [
    "grouped2['new_time_start'] = grouped2['Trip Start Timestamp'].apply(lambda x: x.strftime('%H:%M'))\n",
    "grouped2['new_time_end'] = grouped2['Trip End Timestamp'].apply(lambda x: x.strftime('%H:%M'))\n"
   ]
  },
  {
   "cell_type": "code",
   "execution_count": null,
   "id": "62c8d440",
   "metadata": {},
   "outputs": [],
   "source": [
    "frames = []\n",
    "slider_steps = []\n",
    "\n",
    "lats, lons = [], []\n",
    "money_earned = 0\n",
    "for time in date_range_time:\n",
    "    df = grouped2[grouped2.new_time_start == time]\n",
    "#     data = []\n",
    "    for i, r in df.iterrows():\n",
    "        lat, lon = r['lat'], r['long']\n",
    "        lats.extend(lat)\n",
    "        lons.extend(lon)\n",
    "        lats.append(None)\n",
    "        lons.append(None)\n",
    "        money_earned+=r['Fare']\n",
    "\n",
    "    data = [go.Scattermapbox(\n",
    "        name=f'Time: {time}',\n",
    "#         mode=\"lines\",\n",
    "        lon=lons,\n",
    "        lat=lats,\n",
    "#         marker={'size': 10},\n",
    "#         line=dict(width=4.5),\n",
    "        connectgaps = False\n",
    "        )\n",
    "           ]\n",
    "    annotation = dict(\n",
    "        text=f\"Money earned: {money_earned}\",\n",
    "        showarrow=False,\n",
    "        ax=10,\n",
    "        ay=-40,\n",
    "        bordercolor=\"#c7c7c7\",\n",
    "        borderwidth=2,\n",
    "        borderpad=4,\n",
    "        bgcolor=\"#ff7f0e\",\n",
    "        opacity=0.8,\n",
    "        font=dict(\n",
    "            family=\"Courier New, monospace\",\n",
    "            size=16,\n",
    "            color=\"#ffffff\"\n",
    "            ),\n",
    "        align=\"center\",\n",
    "        )\n",
    "    frames.append(go.Frame(\n",
    "        data=data,\n",
    "        name=time,\n",
    "        layout=go.Layout(\n",
    "            annotations=[annotation]\n",
    "        )\n",
    "    ))\n",
    "    slider_step = {\"args\": [\n",
    "        [time],\n",
    "        {\"frame\": {\"duration\": 300, \"redraw\": True},\n",
    "         \"mode\": \"immediate\",\n",
    "         \"transition\": {\n",
    "             \"duration\": 300,\n",
    "                       }}\n",
    "        ],\n",
    "        \"label\": time,\n",
    "        \"method\": \"animate\"}\n",
    "    slider_steps.append(slider_step)\n",
    "    \n",
    "sliders_dict = {\n",
    "    \"active\": 0,\n",
    "    \"yanchor\": \"top\",\n",
    "    \"xanchor\": \"left\",\n",
    "    \"currentvalue\": {\n",
    "        \"font\": {\"size\": 20},\n",
    "        \"prefix\": \"Time: \",\n",
    "        \"visible\": True,\n",
    "        \"xanchor\": \"right\"\n",
    "    },\n",
    "    \"transition\": {\"duration\": 300, \"easing\": \"cubic-in-out\"},\n",
    "    \"pad\": {\"b\": 10, \"t\": 50},\n",
    "    \"x\": 0,\n",
    "    \"y\": 0,\n",
    "    \"steps\": slider_steps\n",
    "}\n",
    "    \n",
    "layout = go.Layout(\n",
    "    mapbox_style=\"stamen-terrain\",\n",
    "    margin={\"r\":0,\"t\":0,\"l\":0,\"b\":0},\n",
    "    mapbox = {\n",
    "                'center': {'lat': 41.87, \n",
    "                'lon': -87.6},\n",
    "                'zoom': 10\n",
    "    },\n",
    "    updatemenus=[\n",
    "        dict(\n",
    "            type=\"buttons\",\n",
    "            buttons=[\n",
    "                dict(\n",
    "                    label=\"Play\",\n",
    "                    method=\"animate\",\n",
    "                    args=[None]),\n",
    "#                 dict(\n",
    "#                     label=\"Pause\",\n",
    "#                     method=\"animate\",\n",
    "#                     args=[\n",
    "#                         None,\n",
    "#                         {\"frame\": {\"duration\": 0, \"redraw\": False},\n",
    "#                          \"mode\": \"immediate\",\n",
    "#                          \"transition\": {\"duration\": 0}}])\n",
    "                    ]),\n",
    "\n",
    "    ],\n",
    "    sliders=[sliders_dict]\n",
    ")                \n",
    "\n",
    "fig = go.Figure(\n",
    "    data=go.Scattermapbox({\n",
    "     'connectgaps': False,\n",
    "     'lat': [None],\n",
    "     'line': {'width': 3.5},\n",
    "     'lon': [None],\n",
    "     'marker': {'size': 10},\n",
    "     'mode': 'lines',\n",
    "     'name': 'Time: 00:00'\n",
    "    }),\n",
    "    frames=frames,\n",
    "    layout=layout\n",
    ")\n",
    "\n",
    "    \n",
    "fig.show()"
   ]
  },
  {
   "cell_type": "markdown",
   "id": "819d866e",
   "metadata": {},
   "source": [
    "Plotting with Dash and plotly"
   ]
  },
  {
   "cell_type": "code",
   "execution_count": null,
   "id": "69781c77",
   "metadata": {},
   "outputs": [],
   "source": [
    "# app = JupyterDash(__name__)\n",
    "# app.layout = html.Div([\n",
    "#     html.H4('One day of taxi driver'),\n",
    "#     dcc.Graph(id=\"graph\"),\n",
    "#     html.Label(\n",
    "#         'Time',\n",
    "#         style={\"margin-top\": \"30px\"}\n",
    "#     ),\n",
    "#     dcc.RangeSlider(\n",
    "#         id='time_start',\n",
    "#         min=unixTimeMillis(date),\n",
    "#         max=unixTimeMillis(end_date),\n",
    "#         value = [unixTimeMillis(date), unixTimeMillis(end_date)],\n",
    "#         marks = getMarks(date_range_taxi, 4)\n",
    "#     ),\n",
    "#     ])\n",
    "\n",
    "\n",
    "# @app.callback(\n",
    "#     Output(\"graph\", \"figure\"),\n",
    "#     [Input(\"time_start\", \"value\")])\n",
    "    \n",
    "# def update_line_chart(time_start):\n",
    "# #     time_start = time_start[0]\n",
    "#     taxi_trips = grouped2[(grouped2['Trip Start Timestamp'].apply(unixTimeMillis) <= time_start[1]) \n",
    "#                           & (grouped2['Trip End Timestamp'].apply(unixTimeMillis) >= time_start[0])]\n",
    "#     fig = go.Figure(go.Scattermapbox())\n",
    "#     fig.update_layout(mapbox_style=\"stamen-terrain\",\n",
    "#                       mapbox_center_lat = 41.87,\n",
    "#                       mapbox_center_lon=-87.6,\n",
    "#                      )\n",
    "#     fig.update_layout(margin={\"r\":0,\"t\":0,\"l\":0,\"b\":0},\n",
    "#                       mapbox = {\n",
    "#                           'center': {'lat': 41.87, \n",
    "#                           'lon': -87.6},\n",
    "#                           'zoom': 11})\n",
    "#     money_earned = 0\n",
    "#     for _, r in taxi_trips.iterrows():\n",
    "#         lat, long = get_nodes_coords(r['route'])\n",
    "#         plot_path(fig, lat,\n",
    "#                         long,\n",
    "#                         (r['Pickup Centroid Latitude'], r['Pickup Centroid Longitude']),\n",
    "#                         (r['Dropoff Centroid Latitude'], r['Dropoff Centroid Longitude']))\n",
    "#         money_earned += r['Fare']\n",
    "#     fig.add_annotation(\n",
    "#         text=f\"Money earned: {money_earned}\",\n",
    "#         showarrow=False,\n",
    "#         ax=10,\n",
    "#         ay=-40,\n",
    "#         bordercolor=\"#c7c7c7\",\n",
    "#         borderwidth=2,\n",
    "#         borderpad=4,\n",
    "#         bgcolor=\"#ff7f0e\",\n",
    "#         opacity=0.8,\n",
    "#         font=dict(\n",
    "#             family=\"Courier New, monospace\",\n",
    "#             size=16,\n",
    "#             color=\"#ffffff\"\n",
    "#             ),\n",
    "#         align=\"center\",\n",
    "#         )\n",
    "#     return fig\n",
    "\n",
    "\n",
    "# app.run_server(mode='inline', port=8049)\n"
   ]
  },
  {
   "cell_type": "markdown",
   "id": "ea6163d1",
   "metadata": {},
   "source": [
    "## 5. One day of the city"
   ]
  },
  {
   "cell_type": "markdown",
   "id": "de370981",
   "metadata": {},
   "source": [
    "1. Visualize all the rides in the city during the day (2019-05-16) on an animated map."
   ]
  },
  {
   "cell_type": "markdown",
   "id": "9da6dabb",
   "metadata": {},
   "source": [
    "2. When the ride finishes, it should disappear on the map. In other words, it should\n",
    "look like firing neurons in the brain."
   ]
  },
  {
   "cell_type": "markdown",
   "id": "c73e6c65",
   "metadata": {},
   "source": [
    "3. The map should display time"
   ]
  },
  {
   "cell_type": "code",
   "execution_count": null,
   "id": "5d928721",
   "metadata": {},
   "outputs": [],
   "source": [
    "city_day = datetime.strptime('2019-05-16', '%Y-%m-%d')\n",
    "city_end_day = city_day + timedelta(days=1)"
   ]
  },
  {
   "cell_type": "code",
   "execution_count": null,
   "id": "9447785a",
   "metadata": {},
   "outputs": [],
   "source": [
    "date_range_city = pd.date_range(start=city_day,end=city_end_day,freq='15min')"
   ]
  },
  {
   "cell_type": "markdown",
   "id": "d58fa5e1",
   "metadata": {},
   "source": [
    "1. DO NOT DELETE!!! Create Dataframe for a city day with routes and save it to file. (Due to long time calculations keep commented unless changes are made to graph or dataframe selection criteria)"
   ]
  },
  {
   "cell_type": "code",
   "execution_count": null,
   "id": "4fa74fbe",
   "metadata": {},
   "outputs": [],
   "source": [
    "# day_rides = taxi_loc_no_zero_trip[(taxi_loc_no_zero_trip['Trip Start Timestamp'] >= city_day) & (taxi_loc_no_zero_trip['Trip Start Timestamp'] < city_end_day )]\n",
    "# day_rides = day_rides.sort_values('Trip Start Timestamp', ascending=True)\n",
    "# day_rides.reset_index(inplace=True)"
   ]
  },
  {
   "cell_type": "code",
   "execution_count": null,
   "id": "5fbb475d",
   "metadata": {
    "scrolled": true
   },
   "outputs": [],
   "source": [
    "# city_routes = [get_route(G, (r['Pickup Centroid Latitude'], r['Pickup Centroid Longitude']), (r['Dropoff Centroid Latitude'], r['Dropoff Centroid Longitude'])) for _, r in day_rides.iterrows()]\n"
   ]
  },
  {
   "cell_type": "code",
   "execution_count": null,
   "id": "8556a332",
   "metadata": {},
   "outputs": [],
   "source": [
    "# day_rides['route'] = pd.Series(city_routes)\n",
    "# day_rides['lat'], day_rides['long'] = zip(*day_rides['route'].map(get_nodes_coords))"
   ]
  },
  {
   "cell_type": "code",
   "execution_count": null,
   "id": "66c4daba",
   "metadata": {},
   "outputs": [],
   "source": [
    "# day_rides.to_pickle('city_routes_df')"
   ]
  },
  {
   "cell_type": "markdown",
   "id": "0e06c0b2",
   "metadata": {},
   "source": [
    "2. Or load previousely created dataframe from a file"
   ]
  },
  {
   "cell_type": "code",
   "execution_count": null,
   "id": "0ae3e34d",
   "metadata": {},
   "outputs": [],
   "source": [
    "day_rides = pd.read_pickle('city_routes_df')"
   ]
  },
  {
   "cell_type": "code",
   "execution_count": null,
   "id": "363eee2d",
   "metadata": {},
   "outputs": [],
   "source": [
    "day_rides.info()"
   ]
  },
  {
   "cell_type": "markdown",
   "id": "d60ff049",
   "metadata": {},
   "source": [
    "Plot one day of a city with Dash plotly"
   ]
  },
  {
   "cell_type": "code",
   "execution_count": null,
   "id": "a8c85a58",
   "metadata": {},
   "outputs": [],
   "source": [
    "day_rides['new_time'] = day_rides['Trip Start Timestamp'].apply(lambda x: x.strftime('%H:%M'))\n",
    "time_range = day_rides['new_time'].unique()\n",
    "frames = []\n",
    "slider_steps = []\n",
    "\n",
    "for time in time_range:\n",
    "    df = day_rides[day_rides.new_time == time]\n",
    "#     data = []\n",
    "    lats, lons = [], []\n",
    "    for i, r in df.iterrows():\n",
    "        lat, lon = r['lat'], r['long']\n",
    "        lats.extend(lat)\n",
    "        lons.extend(lon)\n",
    "        lats.append(None)\n",
    "        lons.append(None)\n",
    "\n",
    "    data = [go.Scattermapbox(\n",
    "        name=f'Time: {time}',\n",
    "#         mode=\"lines\",\n",
    "        lon=lons,\n",
    "        lat=lats,\n",
    "#         marker={'size': 10},\n",
    "#         line=dict(width=4.5),\n",
    "        connectgaps = False\n",
    "        )\n",
    "           ]\n",
    "    frames.append(go.Frame(\n",
    "        data=data,\n",
    "        name=time\n",
    "    ))\n",
    "    slider_step = {\"args\": [\n",
    "        [time],\n",
    "        {\"frame\": {\"duration\": 300, \"redraw\": True},\n",
    "         \"mode\": \"immediate\",\n",
    "         \"transition\": {\n",
    "             \"duration\": 300,\n",
    "                       }}\n",
    "        ],\n",
    "        \"label\": time,\n",
    "        \"method\": \"animate\"}\n",
    "    slider_steps.append(slider_step)\n",
    "    \n",
    "sliders_dict = {\n",
    "    \"active\": 0,\n",
    "    \"yanchor\": \"top\",\n",
    "    \"xanchor\": \"left\",\n",
    "    \"currentvalue\": {\n",
    "        \"font\": {\"size\": 20},\n",
    "        \"prefix\": \"\",\n",
    "        \"visible\": True,\n",
    "        \"xanchor\": \"right\"\n",
    "    },\n",
    "    \"transition\": {\"duration\": 300, \"easing\": \"cubic-in-out\"},\n",
    "    \"pad\": {\"b\": 10, \"t\": 50},\n",
    "    \"x\": 0,\n",
    "    \"y\": 0,\n",
    "    \"steps\": slider_steps\n",
    "}\n",
    "    \n",
    "layout = go.Layout(\n",
    "    mapbox_style=\"stamen-terrain\",\n",
    "    margin={\"r\":0,\"t\":0,\"l\":0,\"b\":0},\n",
    "    mapbox = {\n",
    "                'center': {'lat': 41.87, \n",
    "                'lon': -87.6},\n",
    "                'zoom': 10\n",
    "    },\n",
    "    updatemenus=[\n",
    "        dict(\n",
    "            type=\"buttons\",\n",
    "            buttons=[\n",
    "                dict(\n",
    "                    label=\"Play\",\n",
    "                    method=\"animate\",\n",
    "                    args=[None]),\n",
    "#                 dict(\n",
    "#                     label=\"Pause\",\n",
    "#                     method=\"animate\",\n",
    "#                     args=[\n",
    "#                         None,\n",
    "#                         {\"frame\": {\"duration\": 0, \"redraw\": False},\n",
    "#                          \"mode\": \"immediate\",\n",
    "#                          \"transition\": {\"duration\": 0}}])\n",
    "                    ]),\n",
    "\n",
    "    ],\n",
    "    sliders=[sliders_dict]\n",
    ")                \n",
    "\n",
    "fig = go.Figure(\n",
    "    data=go.Scattermapbox({\n",
    "     'connectgaps': False,\n",
    "     'lat': [None],\n",
    "     'line': {'width': 3.5},\n",
    "     'lon': [None],\n",
    "     'marker': {'size': 10},\n",
    "     'mode': 'lines',\n",
    "     'name': 'Time: 00:00'\n",
    "    }),\n",
    "    frames=frames,\n",
    "    layout=layout\n",
    ")\n",
    "\n",
    "    \n",
    "fig.show()"
   ]
  },
  {
   "cell_type": "code",
   "execution_count": null,
   "id": "932700f1",
   "metadata": {},
   "outputs": [],
   "source": [
    "# app = JupyterDash(__name__)\n",
    "# app.layout = html.Div([\n",
    "#     html.H4('One day of a city'),\n",
    "#     dcc.Graph(id=\"graph\"),\n",
    "#     html.Label(\n",
    "#         'Time',\n",
    "#         style={\"margin-top\": \"30px\"}\n",
    "#     ),\n",
    "#     dcc.Slider(\n",
    "#         id='time_start',\n",
    "#         min=unixTimeMillis(city_day),\n",
    "#         max=unixTimeMillis(city_end_day),\n",
    "#         value = unixTimeMillis(city_day),\n",
    "#         marks = getMarks(date_range_city, 4)\n",
    "#     ),\n",
    "#     ])\n",
    "\n",
    "\n",
    "# @app.callback(\n",
    "#     Output(\"graph\", \"figure\"),\n",
    "#     [Input(\"time_start\", \"value\")])\n",
    "    \n",
    "# def update_line_chart(time_start):\n",
    "#     taxi_trips = day_rides[(day_rides['Trip Start Timestamp'].apply(unixTimeMillis) <= time_start)\n",
    "#                        & (day_rides['Trip End Timestamp'].apply(unixTimeMillis) >= time_start)]\n",
    "\n",
    "#     fig = go.Figure(go.Scattermapbox())\n",
    "#     fig.update_layout(mapbox_style=\"stamen-terrain\",\n",
    "#                      )\n",
    "#     fig.update_layout(margin={\"r\":0,\"t\":0,\"l\":0,\"b\":0},\n",
    "#                       mapbox = {\n",
    "#                           'center': {'lat': 41.87, \n",
    "#                           'lon': -87.6},\n",
    "#                           'zoom': 11})\n",
    "\n",
    "#     for _, r in taxi_trips.iterrows():\n",
    "#         lat, long = r['lat'], r['long']\n",
    "#         plot_path(fig, lat,\n",
    "#                         long,\n",
    "#                         (r['Pickup Centroid Latitude'], r['Pickup Centroid Longitude']),\n",
    "#                         (r['Dropoff Centroid Latitude'], r['Dropoff Centroid Longitude']))\n",
    "\n",
    "#     fig.add_annotation(\n",
    "#         text=f\"Time: {unixToDatetime(time_start)}\",\n",
    "#         showarrow=False,\n",
    "#         ax=10,\n",
    "#         ay=-40,\n",
    "#         bordercolor=\"#c7c7c7\",\n",
    "#         borderwidth=2,\n",
    "#         borderpad=4,\n",
    "#         bgcolor=\"#ff7f0e\",\n",
    "#         opacity=0.8,\n",
    "#         font=dict(\n",
    "#             family=\"Courier New, monospace\",\n",
    "#             size=16,\n",
    "#             color=\"#ffffff\"\n",
    "#             ),\n",
    "#         align=\"center\",\n",
    "#         )\n",
    "#     return fig\n",
    "\n",
    "\n",
    "# app.run_server(mode='inline', port=8012)\n"
   ]
  },
  {
   "cell_type": "code",
   "execution_count": null,
   "id": "1a7203fb",
   "metadata": {},
   "outputs": [],
   "source": []
  },
  {
   "cell_type": "code",
   "execution_count": null,
   "id": "1002da9e",
   "metadata": {},
   "outputs": [],
   "source": [
    "day_rides"
   ]
  },
  {
   "cell_type": "code",
   "execution_count": null,
   "id": "b6d41c4a",
   "metadata": {},
   "outputs": [],
   "source": []
  },
  {
   "cell_type": "code",
   "execution_count": null,
   "id": "03c28435",
   "metadata": {},
   "outputs": [],
   "source": []
  },
  {
   "cell_type": "markdown",
   "id": "8b520517",
   "metadata": {},
   "source": [
    "## Bonus"
   ]
  },
  {
   "cell_type": "markdown",
   "id": "11fb3e28",
   "metadata": {},
   "source": [
    "- Design your visualizations as a website with interactive elements (for example, where you can choose a date or driver id, choose a location, etc).\n",
    "- Try to achieve a better result with the intersection – at least 5 elements."
   ]
  },
  {
   "cell_type": "markdown",
   "id": "fc119d5e",
   "metadata": {},
   "source": [
    "Save some data for the site"
   ]
  },
  {
   "cell_type": "code",
   "execution_count": null,
   "id": "3e56d3a1",
   "metadata": {},
   "outputs": [],
   "source": [
    "geo_pickups_centers.to_pickle('data/pickup_centers_df')"
   ]
  },
  {
   "cell_type": "code",
   "execution_count": null,
   "id": "b5fef169",
   "metadata": {},
   "outputs": [],
   "source": [
    "taxi_loc_dropna.to_pickle('data/taxi_loc_dropdup_df')"
   ]
  },
  {
   "cell_type": "code",
   "execution_count": null,
   "id": "593a0dd9",
   "metadata": {},
   "outputs": [],
   "source": []
  },
  {
   "cell_type": "code",
   "execution_count": null,
   "id": "4a297373",
   "metadata": {},
   "outputs": [],
   "source": [
    "!ls -lh"
   ]
  },
  {
   "cell_type": "code",
   "execution_count": null,
   "id": "43af56fd",
   "metadata": {},
   "outputs": [],
   "source": []
  },
  {
   "cell_type": "markdown",
   "id": "e3733911",
   "metadata": {},
   "source": [
    "## Links"
   ]
  },
  {
   "cell_type": "markdown",
   "id": "12ee4a91",
   "metadata": {},
   "source": [
    "- https://www.kaggle.com/code/jrw2200/nyc-taxi-trips-clustering/notebook\n",
    "- https://www.kaggle.com/code/bryanlambo/clustering-geolocation-data-taxi-rank-dataset\n",
    "\n",
    "- https://levelup.gitconnected.com/clustering-gps-co-ordinates-forming-regions-4f50caa7e4a1\n",
    "- https://gis.stackexchange.com/questions/439823/draw-polygons-around-a-set-of-points-and-create-clusters-in-python\n",
    "- https://www.youtube.com/watch?v=7m0Bq1EGPPg\n",
    "- https://github.com/Coding-with-Adam/Dash-by-Plotly/tree/master/Good_to_Know/Dash2.0/Jupyter\n",
    "- https://medium.com/analytics-vidhya/clustering-taxi-geolocation-data-to-predict-location-of-taxi-service-stations-pt-1-2471303e0965\n",
    "- https://geographicdata.science/book/notebooks/10_clustering_and_regionalization.html\n",
    "- https://medium.com/codex/clustering-geographic-data-on-an-interactive-map-in-python-60a5d13d6452\n",
    "- https://medium.com/thelorry-product-tech-data/the-clustering-algorithm-with-geolocation-data-d6dd07ed36a\n",
    "\n",
    "- https://www.youtube.com/watch?v=V9dk3EqaK3k&list=PLh3I780jNsiTnCs2LNt4ckbV-c2HatCFg&index=10\n",
    "- https://docs.google.com/document/d/1X7TJUt3UI1ZBgvVqGMahUJ3REgrSZ92bHJgX6nIdABM/edit\n",
    "\n",
    "- https://plotly.com/python/maps/\n",
    "\n",
    "- https://medium.com/analytics-vidhya/clustering-taxi-geolocation-data-to-predict-location-of-taxi-service-stations-pt-1-2471303e0965\n",
    "\n",
    "- https://colab.research.google.com/github/yennanliu/yennj12_blog_V2/blob/master/_notebooks/2020-04-03-nyc-taxi-eda.ipynb"
   ]
  },
  {
   "cell_type": "markdown",
   "id": "4f314e3d",
   "metadata": {},
   "source": [
    "- https://towardsdatascience.com/clustering-in-geospatial-applications-which-model-should-you-use-59a039332c45"
   ]
  },
  {
   "cell_type": "markdown",
   "id": "8afc78d3",
   "metadata": {},
   "source": [
    "- https://hal.science/hal-02947181/document\n",
    "- https://medium.com/nuances-of-programming/python-django-и-osrm-маршрут-на-интерактивной-онлайн-карте-df30c6edfbc5\n",
    "- https://github.com/IshanJainAI/Location-Intelligence-GeoSpatial/blob/main/30%20Python%20Libraries%20for%20Location%20Intelligence.pdf\n",
    "- https://geoffboeing.com/2016/11/osmnx-python-street-networks/"
   ]
  },
  {
   "cell_type": "markdown",
   "id": "b1414d5f",
   "metadata": {},
   "source": [
    "- https://habr.com/ru/post/502958/"
   ]
  },
  {
   "cell_type": "markdown",
   "id": "7dd8ce62",
   "metadata": {},
   "source": [
    "- https://github.com/nathanrooy/taxicab\n",
    "- https://towardsdatascience.com/clustering-geospatial-data-f0584f0b04ec"
   ]
  },
  {
   "cell_type": "markdown",
   "id": "043d590d",
   "metadata": {},
   "source": [
    "- https://towardsdatascience.com/find-and-plot-your-optimal-path-using-plotly-and-networkx-in-python-17e75387b873\n",
    "- https://medium.com/analytics-vidhya/interative-map-with-osm-directions-and-networkx-582c4f3435bc\n",
    "- https://developers.arcgis.com/python/guide/part2-find-routes/"
   ]
  }
 ],
 "metadata": {
  "kernelspec": {
   "display_name": "Python 3 (ipykernel)",
   "language": "python",
   "name": "python3"
  },
  "language_info": {
   "codemirror_mode": {
    "name": "ipython",
    "version": 3
   },
   "file_extension": ".py",
   "mimetype": "text/x-python",
   "name": "python",
   "nbconvert_exporter": "python",
   "pygments_lexer": "ipython3",
   "version": "3.9.5"
  }
 },
 "nbformat": 4,
 "nbformat_minor": 5
}
